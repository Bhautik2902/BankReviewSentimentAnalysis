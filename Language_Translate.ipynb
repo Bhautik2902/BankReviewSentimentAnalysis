{
 "cells": [
  {
   "metadata": {},
   "cell_type": "markdown",
   "source": "Translating language",
   "id": "a229b61c9531984d"
  },
  {
   "cell_type": "code",
   "id": "initial_id",
   "metadata": {
    "collapsed": true,
    "ExecuteTime": {
     "end_time": "2024-10-03T16:43:28.137948Z",
     "start_time": "2024-10-03T16:43:12.662691Z"
    }
   },
   "source": [
    "# Translating language\n",
    "import pandas as pd\n",
    "df = pd.read_excel('./data/cleaned_xl_file_en_fr.xlsx', engine='openpyxl')\n",
    "display(df)"
   ],
   "execution_count": 3,
   "outputs": []
  },
  {
   "metadata": {
    "ExecuteTime": {
     "end_time": "2024-10-03T16:55:41.676019Z",
     "start_time": "2024-10-03T16:55:41.641473Z"
    }
   },
   "cell_type": "code",
   "source": [
    "#Creating batch of 10K\n",
    "import numpy as np\n",
    "\n",
    "batch_size = 10000\n",
    "batches = np.array_split(df, len(df) // batch_size + 1)\n",
    "\n",
    "main_df = pd.DataFrame()\n"
   ],
   "id": "576459b818554e30",
   "execution_count": 5,
   "outputs": []
  },
  {
   "metadata": {
    "jupyter": {
     "is_executing": true
    },
    "ExecuteTime": {
     "start_time": "2024-10-03T16:55:57.896466Z"
    }
   },
   "cell_type": "code",
   "source": [
    "import pandas as pd\n",
    "from transformers import MarianMTModel, MarianTokenizer\n",
    "import sentencepiece as spm\n",
    "\n",
    "model_name = 'Helsinki-NLP/opus-mt-fr-en'\n",
    "tokenizer = MarianTokenizer.from_pretrained(model_name)\n",
    "model = MarianMTModel.from_pretrained(model_name)\n",
    "\n",
    "# Function to translate French reviews to English\n",
    "def translate_to_english(text):\n",
    "    if not isinstance(text, str) or len(text.strip()) == 0:\n",
    "        print(text)\n",
    "        return text  \n",
    "    \n",
    "    inputs = tokenizer(text, return_tensors=\"pt\", padding=True, truncation=True)\n",
    "    translated_tokens = model.generate(**inputs)\n",
    "    translated_text = tokenizer.decode(translated_tokens[0], skip_special_tokens=True)\n",
    "    return translated_text\n",
    "\n",
    "for index, row in batches[0].iterrows():\n",
    "    if row['Review Language'] == 'fr':\n",
    "        translated_review = translate_to_english(row['Review'])\n",
    "        batches[0].at[index, 'Review'] = translated_review\n",
    "\n",
    "main_df = pd.concat([main_df, batches[0]], axis=0)\n",
    "\n",
    "print(\"batch 1 processed successfully\");\n"
   ],
   "id": "81d26ff700003385",
   "execution_count": null,
   "outputs": []
  },
  {
   "metadata": {
    "ExecuteTime": {
     "end_time": "2024-10-03T18:23:29.473043Z",
     "start_time": "2024-10-03T18:23:29.391629Z"
    }
   },
   "cell_type": "code",
   "source": [
    "empty_count = df['Review'].isna().sum() + (df['Review'].str.strip() == '').sum()\n",
    "print(empty_count)"
   ],
   "id": "34cb5ecbd5ccf0eb",
   "execution_count": 9,
   "outputs": []
  },
  {
   "metadata": {
    "ExecuteTime": {
     "end_time": "2024-10-03T18:29:04.709303Z",
     "start_time": "2024-10-03T18:29:04.623305Z"
    }
   },
   "cell_type": "code",
   "source": [
    "empty_rows = df[df['Review'].isna() | (df['Review'].str.strip() == '')].index.tolist()\n",
    "display(df)\n",
    "print(empty_rows)"
   ],
   "id": "1e7fb7bf7fcb3aef",
   "execution_count": 11,
   "outputs": []
  },
  {
   "metadata": {},
   "cell_type": "code",
   "execution_count": null,
   "source": "",
   "id": "2fbbb69c2d07f0b1",
   "outputs": []
  }
 ],
 "metadata": {
  "kernelspec": {
   "display_name": "Python 3",
   "language": "python",
   "name": "python3"
  },
  "language_info": {
   "codemirror_mode": {
    "name": "ipython",
    "version": 2
   },
   "file_extension": ".py",
   "mimetype": "text/x-python",
   "name": "python",
   "nbconvert_exporter": "python",
   "pygments_lexer": "ipython2",
   "version": "2.7.6"
  }
 },
 "nbformat": 4,
 "nbformat_minor": 5
}
