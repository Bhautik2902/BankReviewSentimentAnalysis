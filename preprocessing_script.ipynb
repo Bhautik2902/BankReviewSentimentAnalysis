{
 "cells": [
  {
   "cell_type": "code",
   "id": "initial_id",
   "metadata": {
    "collapsed": true,
    "ExecuteTime": {
     "end_time": "2024-10-22T00:50:57.521738Z",
     "start_time": "2024-10-22T00:50:56.286241Z"
    }
   },
   "source": [
    "import pandas as pd\n",
    "import nltk\n",
    "nltk.download('stopwords')\n",
    "nltk.download('wordnet')"
   ],
   "execution_count": 1,
   "outputs": []
  },
  {
   "metadata": {
    "ExecuteTime": {
     "end_time": "2024-10-22T00:52:37.758161Z",
     "start_time": "2024-10-22T00:52:19.243346Z"
    }
   },
   "cell_type": "code",
   "source": [
    "df=pd.read_csv('canadian_banks_reddit_posts_2024_10_27-14_17_54.csv')\n",
    "import re\n",
    "from nltk.corpus import stopwords\n",
    "from nltk.stem import WordNetLemmatizer\n",
    "\n",
    "# Initialize lemmatizer and stopwords\n",
    "lemmatizer = WordNetLemmatizer()\n",
    "stop_words = set(stopwords.words('english'))\n",
    "\n",
    "def preprocess_text(text):\n",
    "    # Convert to lowercase\n",
    "    text = text.lower()\n",
    "    \n",
    "    # Remove special characters, numbers, and punctuation\n",
    "    text = re.sub(r'\\W', ' ', text)\n",
    "    \n",
    "    # Tokenize the text\n",
    "    words = text.split()\n",
    "    \n",
    "    # Create a new list for lemmatized words\n",
    "    lemmatized_words = []\n",
    "    \n",
    "    # Remove stop words and lemmatize\n",
    "    for word in words: \n",
    "        if word not in stop_words and word.isalpha():\n",
    "            lemmatized_word = lemmatizer.lemmatize(word)\n",
    "            lemmatized_words.append(lemmatized_word)\n",
    "    \n",
    "    # Join lemmatized words back into a string\n",
    "    return ' '.join(lemmatized_words)\n",
    "\n",
    "# Apply preprocessing to each row in the dataframe\n",
    "for index, row in df.iterrows():\n",
    "    text = row['review_text']\n",
    "    cleaned_text = preprocess_text(text)\n",
    "    df.loc[index, 'review_text_processed'] = cleaned_text\n",
    "\n",
    "# Save the updated dataframe to CSV\n",
    "df.to_csv('reddit_google_merged_data_10.csv', index=False)\n"
   ],
   "id": "2305d078697d67b4",
   "execution_count": 2,
   "outputs": []
  },
  {
   "metadata": {},
   "cell_type": "code",
   "execution_count": null,
   "source": "",
   "id": "3a05448543a620c5",
   "outputs": []
  }
 ],
 "metadata": {
  "kernelspec": {
   "display_name": "Python 3",
   "language": "python",
   "name": "python3"
  },
  "language_info": {
   "codemirror_mode": {
    "name": "ipython",
    "version": 2
   },
   "file_extension": ".py",
   "mimetype": "text/x-python",
   "name": "python",
   "nbconvert_exporter": "python",
   "pygments_lexer": "ipython2",
   "version": "2.7.6"
  }
 },
 "nbformat": 4,
 "nbformat_minor": 5
}
